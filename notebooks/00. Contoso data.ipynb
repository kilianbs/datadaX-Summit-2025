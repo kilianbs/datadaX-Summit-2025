{
 "cells": [
  {
   "cell_type": "markdown",
   "id": "82558282",
   "metadata": {},
   "source": [
    "# Requisitos\n",
    "\n",
    "- Lakehouse\n",
    "- Subir los ficheros parquet al Lakehouse\n",
    "- Añadir el Lakehouse al notebook"
   ]
  },
  {
   "cell_type": "code",
   "execution_count": null,
   "id": "9f5df300-7e29-4512-8967-7f0f5ad805d6",
   "metadata": {
    "advisor": {
     "adviceMetadata": "{\"artifactId\":\"d0009a78-8385-4dbe-8b1f-d2e4ce4739e0\",\"activityId\":\"9b2ba7f4-3dfb-4a65-b2c9-176bc0c36dd5\",\"applicationId\":\"application_1747232128718_0001\",\"jobGroupId\":\"10\",\"advices\":{\"warn\":2}}"
    },
    "microsoft": {
     "language": "python",
     "language_group": "synapse_pyspark"
    }
   },
   "outputs": [],
   "source": [
    "files = notebookutils.fs.ls(\"Files\")\n",
    "\n",
    "for file in files:\n",
    "    table_name = file.name.replace(\".parquet\",\"\")\n",
    "    print(f\"Leyendo fichero: {file.name}\")\n",
    "    df = spark.read.parquet(f\"Files/{file.name}\")\n",
    "    print(f\"Creando tabla delta {table_name}...\")\n",
    "    df.write.mode(\"overwrite\").saveAsTable(table_name)\n",
    "    print(f\"Tabla {table_name} creada.\\n\")"
   ]
  }
 ],
 "metadata": {
  "dependencies": {
   "lakehouse": {
    "default_lakehouse": "f96ff666-da81-4cbf-9902-a96fbc30c18d",
    "default_lakehouse_name": "datadaX",
    "default_lakehouse_workspace_id": "780bb0a6-321d-49e3-8985-b28fd0e05254",
    "known_lakehouses": [
     {
      "id": "f96ff666-da81-4cbf-9902-a96fbc30c18d"
     }
    ]
   }
  },
  "kernel_info": {
   "name": "synapse_pyspark"
  },
  "kernelspec": {
   "display_name": "Python 3",
   "language": "python",
   "name": "python3"
  },
  "language_info": {
   "name": "python",
   "version": "3.13.3"
  },
  "microsoft": {
   "language": "python",
   "language_group": "synapse_pyspark",
   "ms_spell_check": {
    "ms_spell_check_language": "en"
   }
  },
  "nteract": {
   "version": "nteract-front-end@1.0.0"
  },
  "spark_compute": {
   "compute_id": "/trident/default",
   "session_options": {
    "conf": {
     "spark.synapse.nbs.session.timeout": "1200000"
    }
   }
  },
  "synapse_widget": {
   "state": {},
   "version": "0.1"
  }
 },
 "nbformat": 4,
 "nbformat_minor": 5
}
