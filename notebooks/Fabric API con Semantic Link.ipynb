{
 "cells": [
  {
   "cell_type": "markdown",
   "id": "7fcb20fe-4c7c-476e-a838-a55521968d33",
   "metadata": {
    "microsoft": {
     "language": "python",
     "language_group": "synapse_pyspark"
    },
    "nteract": {
     "transient": {
      "deleting": false
     }
    }
   },
   "source": [
    "https://learn.microsoft.com/en-us/rest/api/fabric/articles/"
   ]
  },
  {
   "cell_type": "code",
   "execution_count": null,
   "id": "4c298c7b-d702-43d1-86df-46ebcf518c3f",
   "metadata": {
    "microsoft": {
     "language": "python",
     "language_group": "synapse_pyspark"
    }
   },
   "outputs": [],
   "source": [
    "import sempy.fabric as fabric\n",
    "from sempy.fabric.exceptions import FabricHTTPException, WorkspaceNotFoundException\n",
    "import pandas as pd\n",
    "\n",
    "client = fabric.FabricRestClient() # https://api.fabric.microsoft.com"
   ]
  },
  {
   "cell_type": "code",
   "execution_count": null,
   "id": "cbc2f19f-3503-487e-bd52-a0bfcd62bb97",
   "metadata": {
    "microsoft": {
     "language": "python",
     "language_group": "synapse_pyspark"
    }
   },
   "outputs": [],
   "source": [
    "workspaceId = fabric.get_workspace_id()\n",
    "\n",
    "response = client.get(f\"/v1/workspaces/{workspaceId}/items\")\n",
    "df_items = pd.json_normalize(response.json()['value'])\n",
    "df_items"
   ]
  },
  {
   "cell_type": "code",
   "execution_count": null,
   "id": "d444624b-f575-480e-8efc-52eee46b96a9",
   "metadata": {
    "microsoft": {
     "language": "python",
     "language_group": "synapse_pyspark"
    }
   },
   "outputs": [],
   "source": [
    "response = client.get(f\"/v1/admin/workspaces\")"
   ]
  },
  {
   "cell_type": "code",
   "execution_count": null,
   "id": "58ca935f-7bf2-40b3-8f8a-4cdef7c062a3",
   "metadata": {
    "microsoft": {
     "language": "python",
     "language_group": "synapse_pyspark"
    }
   },
   "outputs": [],
   "source": [
    "def obtener_elementos_area_trabajo(area_trabajo=None):\n",
    "    \"\"\"\n",
    "    Obtiene los elementos de un área de trabajo específica de Microsoft Fabric.\n",
    "\n",
    "    Args:\n",
    "        area_trabajo (str, optional): El nombre o ID del área de trabajo. \n",
    "                                     Si es None, se utiliza el área de trabajo actual. \n",
    "                                     Por defecto es None.\n",
    "    Returns:\n",
    "        pandas.DataFrame: Un DataFrame con los elementos del área de trabajo, \n",
    "                          o None si ocurre un error o no se encuentran elementos.\n",
    "    \"\"\"\n",
    "    df = None\n",
    "    id_area_trabajo = None\n",
    "\n",
    "    try:\n",
    "        if area_trabajo is None:\n",
    "            # Obtener el ID del área de trabajo actual si no se proporciona una específica\n",
    "            id_area_trabajo = fabric.get_workspace_id()\n",
    "        else:\n",
    "            # Resolver el ID del área de trabajo a partir del nombre o ID proporcionado\n",
    "            id_area_trabajo = fabric.resolve_workspace_id(area_trabajo)\n",
    "\n",
    "        # Si se obtuvo un id_area_trabajo, proceder a obtener los elementos\n",
    "        if id_area_trabajo:\n",
    "            respuesta = client.get(f\"/v1/workspaces/{id_area_trabajo}/items\")\n",
    "\n",
    "            # Verificar el código de estado de la respuesta\n",
    "            if respuesta.status_code == 200:\n",
    "                datos_respuesta = respuesta.json()\n",
    "                df = pd.json_normalize(datos_respuesta['value'])\n",
    "            else:\n",
    "                print(f\"Error en la respuesta de la API. Código de estado: {respuesta.status_code}, Respuesta: {respuesta.text}\")\n",
    "                raise FabricHTTPException(respuesta)\n",
    "\n",
    "    except WorkspaceNotFoundException as e:\n",
    "        print(f\"Se detectó una WorkspaceNotFoundException: No se pudo encontrar el área de trabajo '{area_trabajo}'. Detalles: {e}\")\n",
    "    except FabricHTTPException as e:\n",
    "        print(f\"Se detectó una FabricHTTPException durante la operación. Verifique la configuración y los permisos. Detalles: {e}\")\n",
    "            \n",
    "    return df"
   ]
  },
  {
   "cell_type": "code",
   "execution_count": null,
   "id": "9c005deb-6e34-4383-bdea-0102d2afd6c4",
   "metadata": {
    "microsoft": {
     "language": "python",
     "language_group": "synapse_pyspark"
    }
   },
   "outputs": [],
   "source": [
    "obtener_elementos_area_trabajo()"
   ]
  },
  {
   "cell_type": "code",
   "execution_count": null,
   "id": "067f6152-51ab-41b8-b40d-41ae881473cf",
   "metadata": {
    "microsoft": {
     "language": "python",
     "language_group": "synapse_pyspark"
    }
   },
   "outputs": [],
   "source": [
    "def crear_lakehouse(payload: dict, area_trabajo: str = None):\n",
    "    \"\"\"\n",
    "    Crea un Lakehouse en Microsoft Fabric utilizando una solicitud POST.\n",
    "\n",
    "    Args:\n",
    "        payload (dict): El cuerpo de la solicitud para la creación del Lakehouse.\n",
    "                        Debe contener al menos 'displayName' y 'type'.\n",
    "        area_trabajo (str, optional): El nombre o ID del área de trabajo donde se creará el Lakehouse.\n",
    "                                     Si es None, se utiliza el área de trabajo actual. \n",
    "                                     Por defecto es None.\n",
    "\n",
    "    Returns:\n",
    "        dict or None: La respuesta JSON del servidor si la creación es exitosa (código 201), \n",
    "                      o None si ocurre un error.\n",
    "    \"\"\"\n",
    "    id_area_trabajo = None\n",
    "    resultado = None\n",
    "\n",
    "    try:\n",
    "        if area_trabajo is None:\n",
    "            id_area_trabajo = fabric.get_workspace_id()\n",
    "        else:\n",
    "            id_area_trabajo = fabric.resolve_workspace_id(area_trabajo)\n",
    "\n",
    "        # Verificar que el payload contiene los campos mínimos requeridos\n",
    "        if not all(k in payload for k in (\"displayName\", \"type\")):\n",
    "            print(\"Error: El payload debe contener 'displayName' y 'type'.\")\n",
    "            return None\n",
    "        \n",
    "        if payload.get(\"type\") != \"Lakehouse\":\n",
    "            print(f\"Advertencia: El tipo especificado en el payload es '{payload.get('type')}', se esperaba 'Lakehouse'.\")\n",
    "\n",
    "        print(f\"Intentando crear el item '{payload.get('displayName')}' de tipo '{payload.get('type')}' en el área de trabajo ID: {id_area_trabajo}.\")\n",
    "        \n",
    "        # Realizar la solicitud POST para crear el item (Lakehouse)\n",
    "        respuesta = client.post(f\"/v1/workspaces/{id_area_trabajo}/items\", json=payload)\n",
    "\n",
    "        # El código de estado esperado para una creación exitosa es 201 (Created)\n",
    "        if respuesta.status_code == 201:\n",
    "            print(f\"El Item '{respuesta.json().get('displayName', payload.get('displayName'))}' ha sido creado correctamente.\")\n",
    "            resultado = respuesta.json() # Devolver la respuesta del servidor\n",
    "        else:\n",
    "            error_detalle = \"\"\n",
    "            try:\n",
    "                error_detalle = respuesta.json() \n",
    "            except ValueError:\n",
    "                error_detalle = respuesta.text\n",
    "            print(f\"Error en la respuesta de la API al crear el item. Código de estado: {respuesta.status_code}. Detalles: {error_detalle}\")\n",
    "            raise FabricHTTPException(respuesta)\n",
    "\n",
    "    except WorkspaceNotFoundException as e:\n",
    "        print(f\"Error: No se pudo encontrar el área de trabajo '{area_trabajo}'. Detalles: {e}\")\n",
    "    except FabricHTTPException as e:\n",
    "        print(f\"Error HTTP de Fabric durante la operación. Verifique el punto final de la API, la autenticación y el payload. Detalles: {e}\")\n",
    "    except Exception as e:\n",
    "        identificador_ws = area_trabajo if area_trabajo else \"actual\"\n",
    "        print(f\"Ocurrió un error inesperado al intentar crear el Lakehouse en el área de trabajo '{identificador_ws}': {type(e).__name__} - {e}\")\n",
    "            \n",
    "    return resultado"
   ]
  },
  {
   "cell_type": "code",
   "execution_count": null,
   "id": "53238139-65a4-4585-8f81-8e21906deda9",
   "metadata": {
    "microsoft": {
     "language": "python",
     "language_group": "synapse_pyspark"
    }
   },
   "outputs": [],
   "source": [
    "payload = {\n",
    "    \"displayName\": \"DEV_datadaX\",  # Nombre que se mostrará para el Lakehouse\n",
    "    \"type\": \"Lakehouse\",               # Tipo de item a crear (obligatorio)\n",
    "    \"description\": \"Un Lakehouse de ejemplo creado con la API\" # Opcional\n",
    "}\n",
    "\n",
    "print(\"--- Iniciando creación de Lakehouse ---\")\n",
    "\n",
    "respuesta = crear_lakehouse(payload=payload)\n",
    "\n",
    "if respuesta:\n",
    "    print(\"Detalles del Lakehouse creado:\")\n",
    "    print(f\"  ID: {respuesta.get('id')}\")\n",
    "    print(f\"  Nombre: {respuesta.get('displayName')}\")\n",
    "    print(f\"  Tipo: {respuesta.get('type')}\")\n",
    "    print(f\"  Descripción: {respuesta.get('description', 'N/A')}\")\n",
    "else:\n",
    "    print(\"La creación del Lakehouse falló o no devolvió información.\")"
   ]
  }
 ],
 "metadata": {
  "dependencies": {},
  "kernel_info": {
   "name": "synapse_pyspark"
  },
  "kernelspec": {
   "display_name": "synapse_pyspark",
   "name": "synapse_pyspark"
  },
  "language_info": {
   "name": "python"
  },
  "microsoft": {
   "language": "python",
   "language_group": "synapse_pyspark",
   "ms_spell_check": {
    "ms_spell_check_language": "en"
   }
  },
  "nteract": {
   "version": "nteract-front-end@1.0.0"
  },
  "spark_compute": {
   "compute_id": "/trident/default",
   "session_options": {
    "conf": {
     "spark.synapse.nbs.session.timeout": "1200000"
    }
   }
  }
 },
 "nbformat": 4,
 "nbformat_minor": 5
}
